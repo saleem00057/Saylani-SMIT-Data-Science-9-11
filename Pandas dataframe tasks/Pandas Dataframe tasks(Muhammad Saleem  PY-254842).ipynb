{
 "cells": [
  {
   "cell_type": "markdown",
   "id": "7ee6a6b0-164c-40ae-8bbb-863099922c0d",
   "metadata": {},
   "source": [
    "## Pandas Dataframe tasks:-"
   ]
  },
  {
   "cell_type": "markdown",
   "id": "2c8fc376-8981-4777-84eb-a284e0176804",
   "metadata": {},
   "source": [
    "### Task 1:-Write a Pandas program to create a dataframe from a dictionary and display it. Sample data: {'X':[78,85,96,80,86], 'Y':[84,94,89,83,86],'Z':[86,97,96,72,83]}"
   ]
  },
  {
   "cell_type": "code",
   "execution_count": 1,
   "id": "a440ae6f-ae68-41f9-863d-5ebf4c5ea389",
   "metadata": {},
   "outputs": [
    {
     "name": "stdout",
     "output_type": "stream",
     "text": [
      "    X   Y   Z\n",
      "0  78  84  86\n",
      "1  85  94  97\n",
      "2  96  89  96\n",
      "3  80  83  72\n",
      "4  86  86  83\n"
     ]
    }
   ],
   "source": [
    "import pandas as pd\n",
    "\n",
    "# Given data\n",
    "data = {'X': [78, 85, 96, 80, 86],\n",
    "        'Y': [84, 94, 89, 83, 86],\n",
    "        'Z': [86, 97, 96, 72, 83]}\n",
    "\n",
    "# Creating DataFrame\n",
    "data_frame = pd.DataFrame(data)\n",
    "\n",
    "# Display the DataFrame\n",
    "print(data_frame)\n"
   ]
  },
  {
   "cell_type": "markdown",
   "id": "e1db2f1a-dd70-4358-b8d3-af78f2334871",
   "metadata": {},
   "source": [
    "### Task 2:-Write a Pandas program to get the first 3 rows of a given DataFrame. Sample Python dictionary data and list labels:\r\n",
    "exam_data = {'name': ['Anastasia', 'Dima', 'Katherine', 'James', 'Emily', 'Michael', 'Matthew', 'Laura', 'Kevin', 'Jonas'], 'score': [12.5, 9, 16.5, np.nan, 9, 20, 14.5, np.nan, 8, 19], 'attempts': [1, 3, 2, 3, 2, 3, 1, 1, 2, 1], 'qualify': ['yes', 'no', 'yes', 'no', 'no', 'yes', 'yes', 'no', 'no', 'yes']}"
   ]
  },
  {
   "cell_type": "code",
   "execution_count": 2,
   "id": "f391622a-5e3c-4b2e-8c98-ce4a6cfcab6a",
   "metadata": {},
   "outputs": [
    {
     "name": "stdout",
     "output_type": "stream",
     "text": [
      "        name  score  attempts qualify\n",
      "0  Anastasia   12.5         1     yes\n",
      "1       Dima    9.0         3      no\n",
      "2  Katherine   16.5         2     yes\n"
     ]
    }
   ],
   "source": [
    "import pandas as pd\n",
    "import numpy as np\n",
    "\n",
    "# Given data\n",
    "exam_data = {\n",
    "    'name': ['Anastasia', 'Dima', 'Katherine', 'James', 'Emily', 'Michael', 'Matthew', 'Laura', 'Kevin', 'Jonas'],\n",
    "    'score': [12.5, 9, 16.5, np.nan, 9, 20, 14.5, np.nan, 8, 19],\n",
    "    'attempts': [1, 3, 2, 3, 2, 3, 1, 1, 2, 1],\n",
    "    'qualify': ['yes', 'no', 'yes', 'no', 'no', 'yes', 'yes', 'no', 'no', 'yes']\n",
    "}\n",
    "\n",
    "# Creating DataFrame\n",
    "data_frame = pd.DataFrame(exam_data)\n",
    "\n",
    "# Get the first 3 rows\n",
    "first_3_rows = data_frame.head(3)\n",
    "\n",
    "# Display the result\n",
    "print(first_3_rows)\n"
   ]
  },
  {
   "cell_type": "markdown",
   "id": "ac47095e-707e-4176-82b9-723fc9988edc",
   "metadata": {},
   "source": [
    "### Task 3:-Write a Pandas program to select the 'name' and 'score' columns from the following DataFrame. Sample Python dictionary data and list labels:\r\n",
    "exam_data = {'name': ['Anastasia', 'Dima', 'Katherine', 'James', 'Emily', 'Michael', 'Matthew', 'Laura', 'Kevin', 'Jonas'], 'score': [12.5, 9, 16.5, np.nan, 9, 20, 14.5, np.nan, 8, 19], 'attempts': [1, 3, 2, 3, 2, 3, 1, 1, 2, 1], 'qualify': ['yes', 'no', 'yes', 'no', 'no', 'yes', 'yes', 'no', 'no', 'yes']}"
   ]
  },
  {
   "cell_type": "code",
   "execution_count": 3,
   "id": "5c60ae9c-6e47-4a48-b7d9-acb22a30f138",
   "metadata": {},
   "outputs": [
    {
     "name": "stdout",
     "output_type": "stream",
     "text": [
      "        name  score\n",
      "0  Anastasia   12.5\n",
      "1       Dima    9.0\n",
      "2  Katherine   16.5\n",
      "3      James    NaN\n",
      "4      Emily    9.0\n",
      "5    Michael   20.0\n",
      "6    Matthew   14.5\n",
      "7      Laura    NaN\n",
      "8      Kevin    8.0\n",
      "9      Jonas   19.0\n"
     ]
    }
   ],
   "source": [
    "import pandas as pd\n",
    "import numpy as np\n",
    "\n",
    "# Given data\n",
    "exam_data = {\n",
    "    'name': ['Anastasia', 'Dima', 'Katherine', 'James', 'Emily', 'Michael', 'Matthew', 'Laura', 'Kevin', 'Jonas'],\n",
    "    'score': [12.5, 9, 16.5, np.nan, 9, 20, 14.5, np.nan, 8, 19],\n",
    "    'attempts': [1, 3, 2, 3, 2, 3, 1, 1, 2, 1],\n",
    "    'qualify': ['yes', 'no', 'yes', 'no', 'no', 'yes', 'yes', 'no', 'no', 'yes']\n",
    "}\n",
    "\n",
    "# Creating DataFrame\n",
    "data_frame = pd.DataFrame(exam_data)\n",
    "\n",
    "# Select 'name' and 'score' columns\n",
    "selected_columns = data_frame[['name', 'score']]\n",
    "\n",
    "# Display the result\n",
    "print(selected_columns)\n"
   ]
  },
  {
   "cell_type": "markdown",
   "id": "c0b368f3-d2d8-4ca7-b92a-ac6abb69ebf7",
   "metadata": {},
   "source": [
    "### Task 4:-Write a Pandas program to select the rows where the number of attempts in the examination is greater than 2.\r\n",
    "Sample Python dictionary data and list labels:\r\n",
    "\r\n",
    "exam_data = {'name': ['Anastasia', 'Dima', 'Katherine', 'James', 'Emily', 'Michael', 'Matthew', 'Laura', 'Kevin', 'Jonas'], 'score': [12.5, 9, 16.5, np.nan, 9, 20, 14.5, np.nan, 8, 19], 'attempts': [1, 3, 2, 3, 2, 3, 1, 1, 2, 1], 'qualify': ['yes', 'no', 'yes', 'no', 'no', 'yes', 'yes', 'no', 'no', 'yes']}"
   ]
  },
  {
   "cell_type": "code",
   "execution_count": 4,
   "id": "1c5a9e24-73c8-495b-bcc2-d482aab6f30a",
   "metadata": {},
   "outputs": [
    {
     "name": "stdout",
     "output_type": "stream",
     "text": [
      "      name  score  attempts qualify\n",
      "1     Dima    9.0         3      no\n",
      "3    James    NaN         3      no\n",
      "5  Michael   20.0         3     yes\n"
     ]
    }
   ],
   "source": [
    "import pandas as pd\n",
    "import numpy as np\n",
    "\n",
    "# Given data\n",
    "exam_data = {\n",
    "    'name': ['Anastasia', 'Dima', 'Katherine', 'James', 'Emily', 'Michael', 'Matthew', 'Laura', 'Kevin', 'Jonas'],\n",
    "    'score': [12.5, 9, 16.5, np.nan, 9, 20, 14.5, np.nan, 8, 19],\n",
    "    'attempts': [1, 3, 2, 3, 2, 3, 1, 1, 2, 1],\n",
    "    'qualify': ['yes', 'no', 'yes', 'no', 'no', 'yes', 'yes', 'no', 'no', 'yes']\n",
    "}\n",
    "\n",
    "# Creating DataFrame\n",
    "data_frame = pd.DataFrame(exam_data)\n",
    "\n",
    "# Select rows where the number of attempts is greater than 2\n",
    "filtered_rows = data_frame[data_frame['attempts'] > 2]\n",
    "\n",
    "# Display the result\n",
    "print(filtered_rows)\n"
   ]
  },
  {
   "cell_type": "markdown",
   "id": "6c86c126-735a-4af1-b749-a8c2e8c97391",
   "metadata": {},
   "source": [
    "### Task 5:-Write a Pandas program to count the number of rows and columns of a DataFrame. Sample Python dictionary data and list labels:\r\n",
    "exam_data = {'name': ['Anastasia', 'Dima', 'Katherine', 'James', 'Emily', 'Michael', 'Matthew', 'Laura', 'Kevin', 'Jonas'], 'score': [12.5, 9, 16.5, np.nan, 9, 20, 14.5, np.nan, 8, 19], 'attempts': [1, 3, 2, 3, 2, 3, 1, 1, 2, 1], 'qualify': ['yes', 'no', 'yes', 'no', 'no', 'yes', 'yes', 'no', 'no', 'yes']}"
   ]
  },
  {
   "cell_type": "code",
   "execution_count": 5,
   "id": "226201fd-24a5-463e-89a7-591460efd222",
   "metadata": {},
   "outputs": [
    {
     "name": "stdout",
     "output_type": "stream",
     "text": [
      "Number of rows: 10\n",
      "Number of columns: 4\n"
     ]
    }
   ],
   "source": [
    "import pandas as pd\n",
    "import numpy as np\n",
    "\n",
    "# Given data\n",
    "exam_data = {\n",
    "    'name': ['Anastasia', 'Dima', 'Katherine', 'James', 'Emily', 'Michael', 'Matthew', 'Laura', 'Kevin', 'Jonas'],\n",
    "    'score': [12.5, 9, 16.5, np.nan, 9, 20, 14.5, np.nan, 8, 19],\n",
    "    'attempts': [1, 3, 2, 3, 2, 3, 1, 1, 2, 1],\n",
    "    'qualify': ['yes', 'no', 'yes', 'no', 'no', 'yes', 'yes', 'no', 'no', 'yes']\n",
    "}\n",
    "\n",
    "# Creating DataFrame\n",
    "data_frame = pd.DataFrame(exam_data)\n",
    "\n",
    "# Get the number of rows and columns\n",
    "num_rows, num_columns = data_frame.shape\n",
    "\n",
    "# Display the result\n",
    "print(f'Number of rows: {num_rows}')\n",
    "print(f'Number of columns: {num_columns}')\n"
   ]
  },
  {
   "cell_type": "code",
   "execution_count": null,
   "id": "155662d3-bc3b-46cf-af1a-37e26f506233",
   "metadata": {},
   "outputs": [],
   "source": []
  }
 ],
 "metadata": {
  "kernelspec": {
   "display_name": "Python 3 (ipykernel)",
   "language": "python",
   "name": "python3"
  },
  "language_info": {
   "codemirror_mode": {
    "name": "ipython",
    "version": 3
   },
   "file_extension": ".py",
   "mimetype": "text/x-python",
   "name": "python",
   "nbconvert_exporter": "python",
   "pygments_lexer": "ipython3",
   "version": "3.11.7"
  }
 },
 "nbformat": 4,
 "nbformat_minor": 5
}
